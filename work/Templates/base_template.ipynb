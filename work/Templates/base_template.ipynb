{
 "cells": [
  {
   "cell_type": "code",
   "execution_count": 1,
   "id": "ad8406ba-c1c6-46a2-8887-d6fbadea4a03",
   "metadata": {},
   "outputs": [],
   "source": [
    "%reload_ext dotenv\n",
    "# invoke with %%ai chatgpt\n",
    "%reload_ext jupyter_ai \n",
    "%dotenv work/.env"
   ]
  },
  {
   "cell_type": "code",
   "execution_count": 2,
   "id": "7bf29a7e-6b28-4b83-a2a4-08318ea83111",
   "metadata": {},
   "outputs": [
    {
     "data": {
      "text/markdown": [
       "# JupyterLab Notebook Template\n",
       "\n",
       "This JupyterLab notebook template is designed to provide a structured and organized layout for your data analysis projects. With sections for data loading, data cleaning, data exploration, modeling, and visualization, this template will help you stay organized and focused as you work through your analysis.\n",
       "\n",
       "Simply fill in the code cells with your specific data, analysis techniques, and visualizations to create a comprehensive and well-documented notebook. Feel free to modify the template to suit your specific project needs and requirements.\n",
       "\n",
       "Happy analyzing!"
      ],
      "text/plain": [
       "<IPython.core.display.Markdown object>"
      ]
     },
     "execution_count": 2,
     "metadata": {
      "text/markdown": {
       "jupyter_ai": {
        "model_id": "gpt-3.5-turbo",
        "provider_id": "openai-chat"
       }
      }
     },
     "output_type": "execute_result"
    }
   ],
   "source": [
    "%%ai chatgpt\n",
    "write an introduction for a jupyterlab notebook template"
   ]
  },
  {
   "cell_type": "code",
   "execution_count": null,
   "id": "dbdaa133-f8cc-4cb5-8a7c-610c512defe9",
   "metadata": {},
   "outputs": [],
   "source": []
  }
 ],
 "metadata": {
  "kernelspec": {
   "display_name": "Python 3 (ipykernel)",
   "language": "python",
   "name": "python3"
  },
  "language_info": {
   "codemirror_mode": {
    "name": "ipython",
    "version": 3
   },
   "file_extension": ".py",
   "mimetype": "text/x-python",
   "name": "python",
   "nbconvert_exporter": "python",
   "pygments_lexer": "ipython3",
   "version": "3.11.8"
  }
 },
 "nbformat": 4,
 "nbformat_minor": 5
}
