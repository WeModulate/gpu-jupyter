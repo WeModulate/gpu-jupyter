{
 "cells": [
  {
   "cell_type": "code",
   "execution_count": 8,
   "id": "d03f86ea-a9cd-4988-a1a8-baaf774530f5",
   "metadata": {},
   "outputs": [
    {
     "name": "stdout",
     "output_type": "stream",
     "text": [
      "The dotenv extension is already loaded. To reload it, use:\n",
      "  %reload_ext dotenv\n"
     ]
    }
   ],
   "source": [
    "%load_ext dotenv\n",
    "%load_ext jupyter_ai\n",
    "%dotenv data/.env\n"
   ]
  },
  {
   "cell_type": "code",
   "execution_count": 6,
   "id": "eca52e60-1e40-44c5-83a4-f8245e03b2ea",
   "metadata": {},
   "outputs": [],
   "source": [
    "import os\n",
    "openaos.environ.get(\"OPENAI_API_KEY\")"
   ]
  },
  {
   "cell_type": "code",
   "execution_count": 9,
   "id": "b2170271-4a21-4d32-adfc-8180ac6b0f49",
   "metadata": {},
   "outputs": [
    {
     "data": {
      "text/markdown": [
       "```python\n",
       "def calculator(operation, num1, num2):\n",
       "    if operation == 'add':\n",
       "        return num1 + num2\n",
       "    elif operation == 'subtract':\n",
       "        return num1 - num2\n",
       "    elif operation == 'multiply':\n",
       "        return num1 * num2\n",
       "    elif operation == 'divide':\n",
       "        if num2 == 0:\n",
       "            return 'Error: Division by zero is not allowed'\n",
       "        else:\n",
       "            return num1 / num2\n",
       "    else:\n",
       "        return 'Error: Invalid operation'\n",
       "\n",
       "# Test the calculator function\n",
       "print(f\"Adding 5 and 3: {calculator('add', 5, 3)}\")\n",
       "print(f\"Subtracting 5 from 3: {calculator('subtract', 3, 5)}\")\n",
       "print(f\"Multiplying 5 and 3: {calculator('multiply', 5, 3)}\")\n",
       "print(f\"Dividing 6 by 2: {calculator('divide', 6, 2)}\")\n",
       "print(f\"Dividing 6 by 0: {calculator('divide', 6, 0)}\")\n",
       "print(f\"Performing an invalid operation: {calculator('invalid', 5, 3)}\")\n",
       "```\n",
       "\n",
       "Output:\n",
       "```\n",
       "Adding 5 and 3: 8\n",
       "Subtracting 5 from 3: -2\n",
       "Multiplying 5 and 3: 15\n",
       "Dividing 6 by 2: 3.0\n",
       "Dividing 6 by 0: Error: Division by zero is not allowed\n",
       "Performing an invalid operation: Error: Invalid operation\n",
       "```"
      ],
      "text/plain": [
       "<IPython.core.display.Markdown object>"
      ]
     },
     "execution_count": 9,
     "metadata": {
      "text/markdown": {
       "jupyter_ai": {
        "model_id": "gpt-3.5-turbo",
        "provider_id": "openai-chat"
       }
      }
     },
     "output_type": "execute_result"
    }
   ],
   "source": [
    "%%ai chatgpt\n",
    "a function that implements a simple calculator"
   ]
  },
  {
   "cell_type": "code",
   "execution_count": null,
   "id": "bec6a2c1-8f4a-4b79-a8a0-4e63e6f83a13",
   "metadata": {},
   "outputs": [],
   "source": []
  }
 ],
 "metadata": {
  "kernelspec": {
   "display_name": "Python 3 (ipykernel)",
   "language": "python",
   "name": "python3"
  },
  "language_info": {
   "codemirror_mode": {
    "name": "ipython",
    "version": 3
   },
   "file_extension": ".py",
   "mimetype": "text/x-python",
   "name": "python",
   "nbconvert_exporter": "python",
   "pygments_lexer": "ipython3",
   "version": "3.11.8"
  }
 },
 "nbformat": 4,
 "nbformat_minor": 5
}
