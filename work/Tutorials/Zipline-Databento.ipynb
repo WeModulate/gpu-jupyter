{
 "cells": [
  {
   "cell_type": "code",
   "execution_count": 1,
   "id": "7ccd9b93-02ce-4914-9380-a2d77ed578d3",
   "metadata": {},
   "outputs": [],
   "source": [
    "%reload_ext autoreload\n",
    "%autoreload 2\n",
    "%reload_ext dotenv\n",
    "%reload_ext jupyter_ai\n",
    "%dotenv work/.env\n",
    "\n",
    "import os\n",
    "import sys\n",
    "\n",
    "directory_path = os.path.abspath(\"/home/jovyan/work/src/\")\n",
    "if directory_path not in sys.path:\n",
    "    sys.path.append(directory_path)\n",
    "\n",
    "import pandas as pd\n",
    "from IPython.display import display"
   ]
  },
  {
   "cell_type": "code",
   "execution_count": 2,
   "id": "78678193-5b3b-4fde-a95d-be0a68aa79bd",
   "metadata": {},
   "outputs": [
    {
     "data": {
      "text/markdown": [
       "# Using Databento Data as Input in Zipline-Reloaded\n",
       "\n",
       "In this notebook, we will explore the process of using databento data as input in zipline-reloaded. Zipline-reloaded is a backtesting library in Python that allows users to test trading algorithms on historical data. Databento is a data service that provides high-quality financial data for backtesting and analysis.\n",
       "\n",
       "By integrating databento data into zipline-reloaded, we can leverage the comprehensive and accurate datasets provided by databento to conduct more robust backtesting of trading strategies. This can lead to more informed decision-making and better performance of trading algorithms in real-world scenarios.\n",
       "\n",
       "Throughout this notebook, we will demonstrate how to access and implement databento data in zipline-reloaded, showcasing the benefits of using high-quality financial data in backtesting processes."
      ],
      "text/plain": [
       "<IPython.core.display.Markdown object>"
      ]
     },
     "execution_count": 2,
     "metadata": {
      "text/markdown": {
       "jupyter_ai": {
        "model_id": "gpt-3.5-turbo",
        "provider_id": "openai-chat"
       }
      }
     },
     "output_type": "execute_result"
    }
   ],
   "source": [
    "%%ai chatgpt\n",
    "This notebook studies using databento data as input zipline-reloaded. Write a short introduction."
   ]
  },
  {
   "cell_type": "code",
   "execution_count": 5,
   "id": "7ee04864-4746-47f8-bda6-42fe1d76c604",
   "metadata": {},
   "outputs": [],
   "source": [
    "import databento as dbn\n",
    "from utils import dbn_utils\n",
    "# Get key from .env DATABENTO_API_KEY\n",
    "client = dbn.Historical()"
   ]
  },
  {
   "cell_type": "code",
   "execution_count": 6,
   "id": "a30d9e0a-c285-4ce5-9a0d-a4e69b76c13d",
   "metadata": {},
   "outputs": [
    {
     "data": {
      "text/html": [
       "<div>\n",
       "<style scoped>\n",
       "    .dataframe tbody tr th:only-of-type {\n",
       "        vertical-align: middle;\n",
       "    }\n",
       "\n",
       "    .dataframe tbody tr th {\n",
       "        vertical-align: top;\n",
       "    }\n",
       "\n",
       "    .dataframe thead th {\n",
       "        text-align: right;\n",
       "    }\n",
       "</style>\n",
       "<table border=\"1\" class=\"dataframe\">\n",
       "  <thead>\n",
       "    <tr style=\"text-align: right;\">\n",
       "      <th></th>\n",
       "      <th>rtype</th>\n",
       "      <th>publisher_id</th>\n",
       "      <th>instrument_id</th>\n",
       "      <th>open</th>\n",
       "      <th>high</th>\n",
       "      <th>low</th>\n",
       "      <th>close</th>\n",
       "      <th>volume</th>\n",
       "      <th>symbol</th>\n",
       "    </tr>\n",
       "    <tr>\n",
       "      <th>ts_event</th>\n",
       "      <th></th>\n",
       "      <th></th>\n",
       "      <th></th>\n",
       "      <th></th>\n",
       "      <th></th>\n",
       "      <th></th>\n",
       "      <th></th>\n",
       "      <th></th>\n",
       "      <th></th>\n",
       "    </tr>\n",
       "  </thead>\n",
       "  <tbody>\n",
       "    <tr>\n",
       "      <th>2024-02-19 00:00:00+00:00</th>\n",
       "      <td>33</td>\n",
       "      <td>1</td>\n",
       "      <td>17077</td>\n",
       "      <td>5024.50</td>\n",
       "      <td>5024.5</td>\n",
       "      <td>5024.00</td>\n",
       "      <td>5024.50</td>\n",
       "      <td>192</td>\n",
       "      <td>ESH4</td>\n",
       "    </tr>\n",
       "    <tr>\n",
       "      <th>2024-02-19 00:00:00+00:00</th>\n",
       "      <td>33</td>\n",
       "      <td>1</td>\n",
       "      <td>5602</td>\n",
       "      <td>5083.50</td>\n",
       "      <td>5083.5</td>\n",
       "      <td>5083.50</td>\n",
       "      <td>5083.50</td>\n",
       "      <td>1</td>\n",
       "      <td>ESM4</td>\n",
       "    </tr>\n",
       "    <tr>\n",
       "      <th>2024-02-19 00:01:00+00:00</th>\n",
       "      <td>33</td>\n",
       "      <td>1</td>\n",
       "      <td>17077</td>\n",
       "      <td>5024.25</td>\n",
       "      <td>5024.5</td>\n",
       "      <td>5023.75</td>\n",
       "      <td>5024.00</td>\n",
       "      <td>169</td>\n",
       "      <td>ESH4</td>\n",
       "    </tr>\n",
       "    <tr>\n",
       "      <th>2024-02-19 00:02:00+00:00</th>\n",
       "      <td>33</td>\n",
       "      <td>1</td>\n",
       "      <td>17077</td>\n",
       "      <td>5024.00</td>\n",
       "      <td>5024.0</td>\n",
       "      <td>5023.25</td>\n",
       "      <td>5023.75</td>\n",
       "      <td>184</td>\n",
       "      <td>ESH4</td>\n",
       "    </tr>\n",
       "    <tr>\n",
       "      <th>2024-02-19 00:03:00+00:00</th>\n",
       "      <td>33</td>\n",
       "      <td>1</td>\n",
       "      <td>5602</td>\n",
       "      <td>5083.50</td>\n",
       "      <td>5083.5</td>\n",
       "      <td>5083.50</td>\n",
       "      <td>5083.50</td>\n",
       "      <td>1</td>\n",
       "      <td>ESM4</td>\n",
       "    </tr>\n",
       "  </tbody>\n",
       "</table>\n",
       "</div>"
      ],
      "text/plain": [
       "                           rtype  publisher_id  instrument_id     open  \\\n",
       "ts_event                                                                 \n",
       "2024-02-19 00:00:00+00:00     33             1          17077  5024.50   \n",
       "2024-02-19 00:00:00+00:00     33             1           5602  5083.50   \n",
       "2024-02-19 00:01:00+00:00     33             1          17077  5024.25   \n",
       "2024-02-19 00:02:00+00:00     33             1          17077  5024.00   \n",
       "2024-02-19 00:03:00+00:00     33             1           5602  5083.50   \n",
       "\n",
       "                             high      low    close  volume symbol  \n",
       "ts_event                                                            \n",
       "2024-02-19 00:00:00+00:00  5024.5  5024.00  5024.50     192   ESH4  \n",
       "2024-02-19 00:00:00+00:00  5083.5  5083.50  5083.50       1   ESM4  \n",
       "2024-02-19 00:01:00+00:00  5024.5  5023.75  5024.00     169   ESH4  \n",
       "2024-02-19 00:02:00+00:00  5024.0  5023.25  5023.75     184   ESH4  \n",
       "2024-02-19 00:03:00+00:00  5083.5  5083.50  5083.50       1   ESM4  "
      ]
     },
     "metadata": {},
     "output_type": "display_data"
    }
   ],
   "source": [
    "path = '/home/jovyan/data/DataBento/ES/OHLCV-1min'\n",
    "files = [f for f in os.listdir(path) if f.endswith('.zst') and '202402' in f]\n",
    "df = dbn_utils.dbns_to_df(client, path, files)\n",
    "display(df.head(5))"
   ]
  },
  {
   "cell_type": "code",
   "execution_count": null,
   "id": "e27ec05c-0d2f-44d8-b41f-aba34a5acd51",
   "metadata": {},
   "outputs": [],
   "source": [
    "from zipline.algorithm import run"
   ]
  }
 ],
 "metadata": {
  "kernelspec": {
   "display_name": "Python 3 (ipykernel)",
   "language": "python",
   "name": "python3"
  },
  "language_info": {
   "codemirror_mode": {
    "name": "ipython",
    "version": 3
   },
   "file_extension": ".py",
   "mimetype": "text/x-python",
   "name": "python",
   "nbconvert_exporter": "python",
   "pygments_lexer": "ipython3",
   "version": "3.11.8"
  }
 },
 "nbformat": 4,
 "nbformat_minor": 5
}
